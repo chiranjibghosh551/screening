{
  "cells": [
    {
      "cell_type": "markdown",
      "metadata": {
        "id": "view-in-github",
        "colab_type": "text"
      },
      "source": [
        "<a href=\"https://colab.research.google.com/github/chiranjibghosh551/screening/blob/master/text_classification.ipynb\" target=\"_parent\"><img src=\"https://colab.research.google.com/assets/colab-badge.svg\" alt=\"Open In Colab\"/></a>"
      ]
    },
    {
      "cell_type": "code",
      "source": [
        "import pandas as pd\n",
        "\n",
        "# Load dataset with the correct encoding\n",
        "data = pd.read_csv('Articles.csv', encoding='latin-1')  # Try 'latin-1' or 'cp1252'\n",
        "print(data.head())"
      ],
      "metadata": {
        "id": "rKdNlnpwf_dG",
        "outputId": "ae08edff-65d7-4d85-d421-7d7d38bded72",
        "colab": {
          "base_uri": "https://localhost:8080/"
        }
      },
      "execution_count": 9,
      "outputs": [
        {
          "output_type": "stream",
          "name": "stdout",
          "text": [
            "                                             Article      Date  \\\n",
            "0  KARACHI: The Sindh government has decided to b...  1/1/2015   \n",
            "1  HONG KONG: Asian markets started 2015 on an up...  1/2/2015   \n",
            "2  HONG KONG:  Hong Kong shares opened 0.66 perce...  1/5/2015   \n",
            "3  HONG KONG: Asian markets tumbled Tuesday follo...  1/6/2015   \n",
            "4  NEW YORK: US oil prices Monday slipped below $...  1/6/2015   \n",
            "\n",
            "                                             Heading  NewsType  \n",
            "0  sindh govt decides to cut public transport far...  business  \n",
            "1                    asia stocks up in new year trad  business  \n",
            "2           hong kong stocks open 0.66 percent lower  business  \n",
            "3             asian stocks sink euro near nine year   business  \n",
            "4                 us oil prices slip below 50 a barr  business  \n"
          ]
        }
      ]
    },
    {
      "cell_type": "code",
      "source": [
        "import re\n",
        "from sklearn.model_selection import train_test_split\n",
        "\n",
        "def clean_text(text):\n",
        "    text = re.sub(r'<.*?>', '', text)  # Remove HTML tags\n",
        "    text = re.sub(r'[^a-zA-Z\\s]', '', text)  # Remove non-alphabetic characters\n",
        "    text = text.lower().strip()  # Convert to lowercase and strip whitespace\n",
        "    return text\n",
        "\n",
        "# Check for possible typos or variations in the column name\n",
        "# and replace 'Article' with the correct column name if needed\n",
        "data['cleaned_text'] = data['Article'].apply(clean_text)\n",
        "\n",
        "# Split the data\n",
        "X = data['cleaned_text']\n",
        "# Check the DataFrame columns for the correct name of the target variable.\n",
        "print(data.columns)\n",
        "# Assuming 'NewsType' is the target column - this may need to be changed.\n",
        "y = data['NewsType']  # Changed 'Section to \"NewsType\" based on the available columns\n",
        "X_train, X_test, y_train, y_test = train_test_split(X, y, test_size=0.2, random_state=42)"
      ],
      "metadata": {
        "id": "tS9FU-MVgmSq",
        "outputId": "e07a902e-5a69-4fb6-f96d-8e1539b93042",
        "colab": {
          "base_uri": "https://localhost:8080/"
        }
      },
      "execution_count": 10,
      "outputs": [
        {
          "output_type": "stream",
          "name": "stdout",
          "text": [
            "Index(['Article', 'Date', 'Heading', 'NewsType', 'cleaned_text'], dtype='object')\n"
          ]
        }
      ]
    },
    {
      "cell_type": "code",
      "source": [
        "from sklearn.feature_extraction.text import TfidfVectorizer\n",
        "\n",
        "vectorizer = TfidfVectorizer(max_features=5000)  # Limit to 5000 features\n",
        "X_train_tfidf = vectorizer.fit_transform(X_train)\n",
        "X_test_tfidf = vectorizer.transform(X_test)\n"
      ],
      "metadata": {
        "id": "wu4FcYhsgqrl"
      },
      "execution_count": 11,
      "outputs": []
    },
    {
      "cell_type": "code",
      "source": [
        "from sklearn.linear_model import LogisticRegression\n",
        "from sklearn.metrics import classification_report, confusion_matrix\n",
        "\n",
        "# Initialize the model\n",
        "model = LogisticRegression()\n",
        "\n",
        "# Train the model\n",
        "model.fit(X_train_tfidf, y_train)\n",
        "\n",
        "# Make predictions\n",
        "y_pred = model.predict(X_test_tfidf)\n"
      ],
      "metadata": {
        "id": "wdsri8fUgvOc"
      },
      "execution_count": 12,
      "outputs": []
    },
    {
      "cell_type": "code",
      "source": [
        "# Print classification report\n",
        "print(classification_report(y_test, y_pred))\n",
        "\n",
        "# Print confusion matrix\n",
        "confusion_mat = confusion_matrix(y_test, y_pred)\n",
        "print(confusion_mat)\n",
        "\n"
      ],
      "metadata": {
        "id": "l6fN3Uq-g8p3",
        "outputId": "b0748658-5f99-4215-869f-862c52f05ade",
        "colab": {
          "base_uri": "https://localhost:8080/"
        }
      },
      "execution_count": 13,
      "outputs": [
        {
          "output_type": "stream",
          "name": "stdout",
          "text": [
            "              precision    recall  f1-score   support\n",
            "\n",
            "    business       0.99      0.99      0.99       262\n",
            "      sports       0.99      0.99      0.99       277\n",
            "\n",
            "    accuracy                           0.99       539\n",
            "   macro avg       0.99      0.99      0.99       539\n",
            "weighted avg       0.99      0.99      0.99       539\n",
            "\n",
            "[[259   3]\n",
            " [  3 274]]\n"
          ]
        }
      ]
    },
    {
      "cell_type": "code",
      "source": [
        "from sklearn.model_selection import GridSearchCV\n",
        "\n",
        "param_grid = {\n",
        "    'C': [0.1, 1, 10],\n",
        "    'solver': ['liblinear', 'saga']\n",
        "}\n",
        "\n",
        "grid_search = GridSearchCV(LogisticRegression(), param_grid, cv=5)\n",
        "grid_search.fit(X_train_tfidf, y_train)\n",
        "\n",
        "print(\"Best parameters:\", grid_search.best_params_)\n"
      ],
      "metadata": {
        "id": "ohspCgKdhA21",
        "outputId": "acaa0e3b-3d50-4f16-b6cf-96c1c28e35af",
        "colab": {
          "base_uri": "https://localhost:8080/"
        }
      },
      "execution_count": 14,
      "outputs": [
        {
          "output_type": "stream",
          "name": "stderr",
          "text": [
            "/usr/local/lib/python3.10/dist-packages/sklearn/linear_model/_sag.py:349: ConvergenceWarning: The max_iter was reached which means the coef_ did not converge\n",
            "  warnings.warn(\n"
          ]
        },
        {
          "output_type": "stream",
          "name": "stdout",
          "text": [
            "Best parameters: {'C': 10, 'solver': 'liblinear'}\n"
          ]
        },
        {
          "output_type": "stream",
          "name": "stderr",
          "text": [
            "/usr/local/lib/python3.10/dist-packages/sklearn/linear_model/_sag.py:349: ConvergenceWarning: The max_iter was reached which means the coef_ did not converge\n",
            "  warnings.warn(\n"
          ]
        }
      ]
    },
    {
      "cell_type": "code",
      "source": [
        "!pip install Flask\n",
        "!pip install pyngrok\n",
        "\n"
      ],
      "metadata": {
        "id": "EsNWwrRbhFG-",
        "outputId": "45f5ccee-eabe-438a-bca3-3f5304c9428f",
        "colab": {
          "base_uri": "https://localhost:8080/"
        }
      },
      "execution_count": 15,
      "outputs": [
        {
          "output_type": "stream",
          "name": "stdout",
          "text": [
            "Requirement already satisfied: Flask in /usr/local/lib/python3.10/dist-packages (2.2.5)\n",
            "Requirement already satisfied: Werkzeug>=2.2.2 in /usr/local/lib/python3.10/dist-packages (from Flask) (3.0.4)\n",
            "Requirement already satisfied: Jinja2>=3.0 in /usr/local/lib/python3.10/dist-packages (from Flask) (3.1.4)\n",
            "Requirement already satisfied: itsdangerous>=2.0 in /usr/local/lib/python3.10/dist-packages (from Flask) (2.2.0)\n",
            "Requirement already satisfied: click>=8.0 in /usr/local/lib/python3.10/dist-packages (from Flask) (8.1.7)\n",
            "Requirement already satisfied: MarkupSafe>=2.0 in /usr/local/lib/python3.10/dist-packages (from Jinja2>=3.0->Flask) (2.1.5)\n",
            "Collecting pyngrok\n",
            "  Downloading pyngrok-7.2.0-py3-none-any.whl.metadata (7.4 kB)\n",
            "Requirement already satisfied: PyYAML>=5.1 in /usr/local/lib/python3.10/dist-packages (from pyngrok) (6.0.2)\n",
            "Downloading pyngrok-7.2.0-py3-none-any.whl (22 kB)\n",
            "Installing collected packages: pyngrok\n",
            "Successfully installed pyngrok-7.2.0\n"
          ]
        }
      ]
    },
    {
      "cell_type": "code",
      "source": [
        "from flask import Flask, request, render_template\n",
        "from pyngrok import ngrok\n",
        "import numpy as np\n",
        "import re\n",
        "import pandas as pd\n",
        "\n",
        "# Load your model and vectorizer here (assuming you've saved them)\n",
        "# from joblib import load\n",
        "# model = load('your_model.pkl')\n",
        "# vectorizer = load('your_vectorizer.pkl')\n",
        "\n",
        "app = Flask(__name__)\n",
        "\n",
        "@app.route('/')\n",
        "def home():\n",
        "    return '''\n",
        "        <form action=\"/predict\" method=\"post\">\n",
        "            <textarea name=\"text\" rows=\"4\" cols=\"50\" placeholder=\"Enter your text here...\"></textarea>\n",
        "            <br>\n",
        "            <input type=\"submit\" value=\"Classify\">\n",
        "        </form>\n",
        "    '''\n",
        "\n",
        "@app.route('/predict', methods=['POST'])\n",
        "def predict():\n",
        "    text = request.form['text']\n",
        "    cleaned_text = clean_text(text)\n",
        "    tfidf_text = vectorizer.transform([cleaned_text])  # Assuming you have a vectorizer\n",
        "    prediction = model.predict(tfidf_text)  # Assuming you have a model\n",
        "    return f'The predicted news type is: <strong>{prediction[0]}</strong>'\n",
        "\n",
        "if __name__ == '__main__':\n",
        "    app.run()\n"
      ],
      "metadata": {
        "id": "lD-oX4rPhJbB",
        "outputId": "a5421176-9291-4e2b-8d3c-2355ec24c90d",
        "colab": {
          "base_uri": "https://localhost:8080/"
        }
      },
      "execution_count": 16,
      "outputs": [
        {
          "output_type": "stream",
          "name": "stdout",
          "text": [
            " * Serving Flask app '__main__'\n",
            " * Debug mode: off\n"
          ]
        },
        {
          "output_type": "stream",
          "name": "stderr",
          "text": [
            "INFO:werkzeug:\u001b[31m\u001b[1mWARNING: This is a development server. Do not use it in a production deployment. Use a production WSGI server instead.\u001b[0m\n",
            " * Running on http://127.0.0.1:5000\n",
            "INFO:werkzeug:\u001b[33mPress CTRL+C to quit\u001b[0m\n"
          ]
        }
      ]
    },
    {
      "cell_type": "code",
      "source": [
        "!ngrok config add-authtoken 2mjdQRlHSpRTSF2RQvB6BUYbJ5m_26GJYA4pKAKr4iqacQtps"
      ],
      "metadata": {
        "id": "9OJFGTNOme1Z",
        "outputId": "f3bc51ab-26a9-4205-ded4-c62dfb7a4e5c",
        "colab": {
          "base_uri": "https://localhost:8080/"
        }
      },
      "execution_count": 23,
      "outputs": [
        {
          "output_type": "stream",
          "name": "stdout",
          "text": [
            "Authtoken saved to configuration file: /root/.config/ngrok/ngrok.yml\n"
          ]
        }
      ]
    },
    {
      "cell_type": "code",
      "source": [
        "from pyngrok import ngrok, conf\n",
        "\n",
        "# Use the correct format for the authentication token\n",
        "conf.get_default().auth_token = \"2mjdQRlHSpRTSF2RQvB6BUYbJ5m_26GJYA4pKAKr4iqacQtps\"\n",
        "\n",
        "# Start the ngrok tunnel\n",
        "public_url = ngrok.connect(5000)\n",
        "print(f\" * ngrok: {public_url}\")\n",
        "app.run(port=5000)"
      ],
      "metadata": {
        "id": "GJ_w7zVPnbZW",
        "outputId": "10d1b3e0-25bc-4e0a-dacf-426f693d4b9f",
        "colab": {
          "base_uri": "https://localhost:8080/"
        }
      },
      "execution_count": null,
      "outputs": [
        {
          "metadata": {
            "tags": null
          },
          "name": "stdout",
          "output_type": "stream",
          "text": [
            " * ngrok: NgrokTunnel: \"https://0233-35-231-230-9.ngrok-free.app\" -> \"http://localhost:5000\"\n",
            " * Serving Flask app '__main__'\n",
            " * Debug mode: off\n"
          ]
        },
        {
          "metadata": {
            "tags": null
          },
          "name": "stderr",
          "output_type": "stream",
          "text": [
            "INFO:werkzeug:\u001b[31m\u001b[1mWARNING: This is a development server. Do not use it in a production deployment. Use a production WSGI server instead.\u001b[0m\n",
            " * Running on http://127.0.0.1:5000\n",
            "INFO:werkzeug:\u001b[33mPress CTRL+C to quit\u001b[0m\n",
            "INFO:werkzeug:127.0.0.1 - - [29/Sep/2024 07:14:15] \"GET / HTTP/1.1\" 200 -\n",
            "INFO:werkzeug:127.0.0.1 - - [29/Sep/2024 07:14:15] \"\u001b[33mGET /favicon.ico HTTP/1.1\u001b[0m\" 404 -\n",
            "INFO:werkzeug:127.0.0.1 - - [29/Sep/2024 07:14:38] \"POST /predict HTTP/1.1\" 200 -\n",
            "INFO:werkzeug:127.0.0.1 - - [29/Sep/2024 07:15:19] \"POST /predict HTTP/1.1\" 200 -\n",
            "INFO:werkzeug:127.0.0.1 - - [29/Sep/2024 07:15:29] \"POST /predict HTTP/1.1\" 200 -\n",
            "INFO:werkzeug:127.0.0.1 - - [29/Sep/2024 07:16:05] \"POST /predict HTTP/1.1\" 200 -\n",
            "INFO:werkzeug:127.0.0.1 - - [29/Sep/2024 07:16:13] \"POST /predict HTTP/1.1\" 200 -\n",
            "INFO:werkzeug:127.0.0.1 - - [29/Sep/2024 07:16:26] \"POST /predict HTTP/1.1\" 200 -\n",
            "INFO:werkzeug:127.0.0.1 - - [29/Sep/2024 07:16:35] \"POST /predict HTTP/1.1\" 200 -\n"
          ]
        }
      ]
    },
    {
      "cell_type": "code",
      "source": [
        "\n",
        "app.run(port=5000)\n"
      ],
      "metadata": {
        "id": "8OYDfvjWoBHC",
        "outputId": "efdf3858-6745-4710-e664-73fd8c8287c8",
        "colab": {
          "base_uri": "https://localhost:8080/"
        }
      },
      "execution_count": 25,
      "outputs": [
        {
          "output_type": "stream",
          "name": "stdout",
          "text": [
            " * Serving Flask app '__main__'\n",
            " * Debug mode: off\n"
          ]
        },
        {
          "output_type": "stream",
          "name": "stderr",
          "text": [
            "INFO:werkzeug:\u001b[31m\u001b[1mWARNING: This is a development server. Do not use it in a production deployment. Use a production WSGI server instead.\u001b[0m\n",
            " * Running on http://127.0.0.1:5000\n",
            "INFO:werkzeug:\u001b[33mPress CTRL+C to quit\u001b[0m\n"
          ]
        }
      ]
    }
  ],
  "metadata": {
    "colab": {
      "name": "Welcome To Colab",
      "provenance": [],
      "include_colab_link": true
    },
    "kernelspec": {
      "display_name": "Python 3",
      "name": "python3"
    }
  },
  "nbformat": 4,
  "nbformat_minor": 0
}